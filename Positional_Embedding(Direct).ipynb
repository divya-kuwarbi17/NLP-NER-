{
  "nbformat": 4,
  "nbformat_minor": 0,
  "metadata": {
    "colab": {
      "name": "Positional_Embedding(Direct).ipynb",
      "provenance": []
    },
    "kernelspec": {
      "name": "python3",
      "display_name": "Python 3"
    },
    "language_info": {
      "name": "python"
    }
  },
  "cells": [
    {
      "cell_type": "code",
      "execution_count": 1,
      "metadata": {
        "id": "q6lN23IInrPv"
      },
      "outputs": [],
      "source": [
        "\n",
        "import tensorflow as tf\n",
        "from tensorflow import convert_to_tensor, string\n",
        "from tensorflow.keras.layers import TextVectorization, Embedding, Layer\n",
        "from tensorflow.data import Dataset\n",
        "import numpy as np\n",
        "import matplotlib.pyplot as plt"
      ]
    },
    {
      "cell_type": "code",
      "source": [
        "\n",
        "output_sequence_length = 5\n",
        "vocab_size = 10\n",
        "sentences = [[\"I am a boy\"], [\"you too a boy\"]]\n",
        "sentence_data = Dataset.from_tensor_slices(sentences)\n",
        "# Create the TextVectorization layer\n",
        "vectorize_layer = TextVectorization(\n",
        "                  output_sequence_length=output_sequence_length,\n",
        "                  max_tokens=vocab_size)\n",
        "# Train the layer to create a dictionary\n",
        "vectorize_layer.adapt(sentence_data)\n",
        "# Convert all sentences to tensors\n",
        "word_tensors = convert_to_tensor(sentences, dtype=tf.string)\n",
        "# Use the word tensors to get vectorized phrases\n",
        "vectorized_words = vectorize_layer(word_tensors)\n",
        "print(\"Vocabulary: \", vectorize_layer.get_vocabulary())\n",
        "print(\"Vectorized words: \", vectorized_words)"
      ],
      "metadata": {
        "colab": {
          "base_uri": "https://localhost:8080/"
        },
        "id": "ykcaE4XBDTI_",
        "outputId": "2d4e3a47-4f56-445a-a84d-51b36ba0de41"
      },
      "execution_count": 6,
      "outputs": [
        {
          "output_type": "stream",
          "name": "stdout",
          "text": [
            "Vocabulary:  ['', '[UNK]', 'boy', 'a', 'you', 'too', 'i', 'am']\n",
            "Vectorized words:  tf.Tensor(\n",
            "[[6 7 3 2 0]\n",
            " [4 5 3 2 0]], shape=(2, 5), dtype=int64)\n"
          ]
        }
      ]
    },
    {
      "cell_type": "code",
      "source": [
        "\n",
        "output_length = 5\n",
        "word_embedding_layer = Embedding(vocab_size, output_length)\n",
        "embedded_words = word_embedding_layer(vectorized_words)\n",
        "print(embedded_words)"
      ],
      "metadata": {
        "colab": {
          "base_uri": "https://localhost:8080/"
        },
        "id": "2-bi7vWzDoLU",
        "outputId": "c9be0684-050e-4d0c-85b5-36756c825545"
      },
      "execution_count": 8,
      "outputs": [
        {
          "output_type": "stream",
          "name": "stdout",
          "text": [
            "tf.Tensor(\n",
            "[[[-0.01798941 -0.01141007 -0.01965236 -0.01391307  0.02580461]\n",
            "  [ 0.00942267  0.02321624 -0.03564912 -0.04408618 -0.00852084]\n",
            "  [ 0.04267063 -0.03018031 -0.02566581  0.01290936 -0.01181199]\n",
            "  [ 0.04796818  0.04413647  0.02198202 -0.02115368 -0.04999118]\n",
            "  [-0.04091095 -0.0028476  -0.00813979  0.04155176 -0.01923447]]\n",
            "\n",
            " [[ 0.01443329 -0.0470566  -0.00141361 -0.03441573 -0.03382297]\n",
            "  [-0.04286138 -0.01530708  0.01445475  0.04435326  0.04332342]\n",
            "  [ 0.04267063 -0.03018031 -0.02566581  0.01290936 -0.01181199]\n",
            "  [ 0.04796818  0.04413647  0.02198202 -0.02115368 -0.04999118]\n",
            "  [-0.04091095 -0.0028476  -0.00813979  0.04155176 -0.01923447]]], shape=(2, 5, 5), dtype=float32)\n"
          ]
        }
      ]
    },
    {
      "cell_type": "code",
      "source": [
        "\n",
        "position_embedding_layer = Embedding(output_sequence_length, output_length)\n",
        "position_indices = tf.range(output_sequence_length)\n",
        "embedded_indices = position_embedding_layer(position_indices)\n",
        "print(embedded_indices)"
      ],
      "metadata": {
        "colab": {
          "base_uri": "https://localhost:8080/"
        },
        "id": "CQbPsa9FDuEj",
        "outputId": "ee0eb2b9-a560-471b-a2b3-176824966114"
      },
      "execution_count": 9,
      "outputs": [
        {
          "output_type": "stream",
          "name": "stdout",
          "text": [
            "tf.Tensor(\n",
            "[[-0.0251071  -0.00928924 -0.02392038 -0.04352036 -0.02765547]\n",
            " [-0.03625281  0.04192827 -0.02805814  0.04814998  0.01290405]\n",
            " [-0.01811836 -0.03747717 -0.01970277  0.04699031 -0.0028955 ]\n",
            " [ 0.01793637 -0.04747498  0.01727717 -0.03960899  0.04200044]\n",
            " [ 0.04633823  0.01250258 -0.03862096 -0.04872328 -0.04257888]], shape=(5, 5), dtype=float32)\n"
          ]
        }
      ]
    },
    {
      "cell_type": "code",
      "source": [
        "\n",
        "final_output_embedding = embedded_words + embedded_indices\n",
        "print(\"Final output: \", final_output_embedding)"
      ],
      "metadata": {
        "colab": {
          "base_uri": "https://localhost:8080/"
        },
        "id": "DXkIZDv3D0k3",
        "outputId": "f46d50c8-5cdb-419d-c667-4d7918e91fc9"
      },
      "execution_count": 10,
      "outputs": [
        {
          "output_type": "stream",
          "name": "stdout",
          "text": [
            "Final output:  tf.Tensor(\n",
            "[[[-0.04309651 -0.02069931 -0.04357274 -0.05743343 -0.00185086]\n",
            "  [-0.02683014  0.0651445  -0.06370725  0.00406379  0.00438321]\n",
            "  [ 0.02455227 -0.06765749 -0.04536857  0.05989967 -0.01470749]\n",
            "  [ 0.06590455 -0.00333851  0.03925919 -0.06076267 -0.00799074]\n",
            "  [ 0.00542729  0.00965498 -0.04676075 -0.00717152 -0.06181334]]\n",
            "\n",
            " [[-0.01067381 -0.05634585 -0.02533399 -0.07793609 -0.06147844]\n",
            "  [-0.07911418  0.02662119 -0.01360339  0.09250323  0.05622748]\n",
            "  [ 0.02455227 -0.06765749 -0.04536857  0.05989967 -0.01470749]\n",
            "  [ 0.06590455 -0.00333851  0.03925919 -0.06076267 -0.00799074]\n",
            "  [ 0.00542729  0.00965498 -0.04676075 -0.00717152 -0.06181334]]], shape=(2, 5, 5), dtype=float32)\n"
          ]
        }
      ]
    },
    {
      "cell_type": "code",
      "source": [
        ""
      ],
      "metadata": {
        "id": "xkQEJVmOD5j-"
      },
      "execution_count": null,
      "outputs": []
    }
  ]
}